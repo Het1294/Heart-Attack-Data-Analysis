{
 "cells": [
  {
   "cell_type": "code",
   "execution_count": 2,
   "id": "677bdcc6",
   "metadata": {},
   "outputs": [],
   "source": [
    "import pandas as pd"
   ]
  },
  {
   "cell_type": "code",
   "execution_count": 3,
   "id": "b6594373",
   "metadata": {},
   "outputs": [],
   "source": [
    "df = pd.read_csv(\"HeartAttack.csv\")"
   ]
  },
  {
   "cell_type": "code",
   "execution_count": 4,
   "id": "371e0d2f",
   "metadata": {
    "scrolled": true
   },
   "outputs": [
    {
     "data": {
      "text/html": [
       "<div>\n",
       "<style scoped>\n",
       "    .dataframe tbody tr th:only-of-type {\n",
       "        vertical-align: middle;\n",
       "    }\n",
       "\n",
       "    .dataframe tbody tr th {\n",
       "        vertical-align: top;\n",
       "    }\n",
       "\n",
       "    .dataframe thead th {\n",
       "        text-align: right;\n",
       "    }\n",
       "</style>\n",
       "<table border=\"1\" class=\"dataframe\">\n",
       "  <thead>\n",
       "    <tr style=\"text-align: right;\">\n",
       "      <th></th>\n",
       "      <th>age</th>\n",
       "      <th>sex</th>\n",
       "      <th>cp</th>\n",
       "      <th>trtbps</th>\n",
       "      <th>chol</th>\n",
       "      <th>fbs</th>\n",
       "      <th>restecg</th>\n",
       "      <th>thalachh</th>\n",
       "      <th>exng</th>\n",
       "      <th>oldpeak</th>\n",
       "      <th>slp</th>\n",
       "      <th>caa</th>\n",
       "      <th>thall</th>\n",
       "      <th>output</th>\n",
       "    </tr>\n",
       "  </thead>\n",
       "  <tbody>\n",
       "    <tr>\n",
       "      <th>0</th>\n",
       "      <td>63</td>\n",
       "      <td>1</td>\n",
       "      <td>3</td>\n",
       "      <td>145</td>\n",
       "      <td>233</td>\n",
       "      <td>1</td>\n",
       "      <td>0</td>\n",
       "      <td>150</td>\n",
       "      <td>0</td>\n",
       "      <td>2.3</td>\n",
       "      <td>0</td>\n",
       "      <td>0</td>\n",
       "      <td>1</td>\n",
       "      <td>1</td>\n",
       "    </tr>\n",
       "    <tr>\n",
       "      <th>1</th>\n",
       "      <td>37</td>\n",
       "      <td>1</td>\n",
       "      <td>2</td>\n",
       "      <td>130</td>\n",
       "      <td>250</td>\n",
       "      <td>0</td>\n",
       "      <td>1</td>\n",
       "      <td>187</td>\n",
       "      <td>0</td>\n",
       "      <td>3.5</td>\n",
       "      <td>0</td>\n",
       "      <td>0</td>\n",
       "      <td>2</td>\n",
       "      <td>1</td>\n",
       "    </tr>\n",
       "    <tr>\n",
       "      <th>2</th>\n",
       "      <td>41</td>\n",
       "      <td>0</td>\n",
       "      <td>1</td>\n",
       "      <td>130</td>\n",
       "      <td>204</td>\n",
       "      <td>0</td>\n",
       "      <td>0</td>\n",
       "      <td>172</td>\n",
       "      <td>0</td>\n",
       "      <td>1.4</td>\n",
       "      <td>2</td>\n",
       "      <td>0</td>\n",
       "      <td>2</td>\n",
       "      <td>1</td>\n",
       "    </tr>\n",
       "    <tr>\n",
       "      <th>3</th>\n",
       "      <td>56</td>\n",
       "      <td>1</td>\n",
       "      <td>1</td>\n",
       "      <td>120</td>\n",
       "      <td>236</td>\n",
       "      <td>0</td>\n",
       "      <td>1</td>\n",
       "      <td>178</td>\n",
       "      <td>0</td>\n",
       "      <td>0.8</td>\n",
       "      <td>2</td>\n",
       "      <td>0</td>\n",
       "      <td>2</td>\n",
       "      <td>1</td>\n",
       "    </tr>\n",
       "    <tr>\n",
       "      <th>4</th>\n",
       "      <td>57</td>\n",
       "      <td>0</td>\n",
       "      <td>0</td>\n",
       "      <td>120</td>\n",
       "      <td>354</td>\n",
       "      <td>0</td>\n",
       "      <td>1</td>\n",
       "      <td>163</td>\n",
       "      <td>1</td>\n",
       "      <td>0.6</td>\n",
       "      <td>2</td>\n",
       "      <td>0</td>\n",
       "      <td>2</td>\n",
       "      <td>1</td>\n",
       "    </tr>\n",
       "  </tbody>\n",
       "</table>\n",
       "</div>"
      ],
      "text/plain": [
       "   age  sex  cp  trtbps  chol  fbs  restecg  thalachh  exng  oldpeak  slp  \\\n",
       "0   63    1   3     145   233    1        0       150     0      2.3    0   \n",
       "1   37    1   2     130   250    0        1       187     0      3.5    0   \n",
       "2   41    0   1     130   204    0        0       172     0      1.4    2   \n",
       "3   56    1   1     120   236    0        1       178     0      0.8    2   \n",
       "4   57    0   0     120   354    0        1       163     1      0.6    2   \n",
       "\n",
       "   caa  thall  output  \n",
       "0    0      1       1  \n",
       "1    0      2       1  \n",
       "2    0      2       1  \n",
       "3    0      2       1  \n",
       "4    0      2       1  "
      ]
     },
     "execution_count": 4,
     "metadata": {},
     "output_type": "execute_result"
    }
   ],
   "source": [
    "df.head()"
   ]
  },
  {
   "cell_type": "code",
   "execution_count": 5,
   "id": "ecbedbde",
   "metadata": {},
   "outputs": [],
   "source": [
    "            #CASE 1"
   ]
  },
  {
   "cell_type": "code",
   "execution_count": 6,
   "id": "de332a79",
   "metadata": {},
   "outputs": [
    {
     "name": "stdout",
     "output_type": "stream",
     "text": [
      "age 55\n"
     ]
    }
   ],
   "source": [
    "#seperation on basis of entropy 0.5\n",
    "for value in range(100):\n",
    "    qry= 'age >' + str(value)\n",
    "    df_value = df.query(qry)\n",
    "    if(len(df_value)/len(df)) <0.5:\n",
    "        break\n",
    "print('age',value)"
   ]
  },
  {
   "cell_type": "code",
   "execution_count": 7,
   "id": "ebe86aad",
   "metadata": {},
   "outputs": [
    {
     "data": {
      "text/plain": [
       "207"
      ]
     },
     "execution_count": 7,
     "metadata": {},
     "output_type": "execute_result"
    }
   ],
   "source": [
    "df_M = df.query(\"sex==1\")\n",
    "len(df_M)"
   ]
  },
  {
   "cell_type": "code",
   "execution_count": 8,
   "id": "243cb3a0",
   "metadata": {},
   "outputs": [
    {
     "data": {
      "text/plain": [
       "96"
      ]
     },
     "execution_count": 8,
     "metadata": {},
     "output_type": "execute_result"
    }
   ],
   "source": [
    "df_F = df.query(\"sex==0\")\n",
    "len(df_F)"
   ]
  },
  {
   "cell_type": "code",
   "execution_count": 9,
   "id": "71ede2e5",
   "metadata": {},
   "outputs": [
    {
     "data": {
      "text/plain": [
       "139"
      ]
     },
     "execution_count": 9,
     "metadata": {},
     "output_type": "execute_result"
    }
   ],
   "source": [
    "df_M_AG50  = df.query(\"sex==1 &age>50\")\n",
    "len(df_M_AG50)"
   ]
  },
  {
   "cell_type": "code",
   "execution_count": 10,
   "id": "26797a0a",
   "metadata": {},
   "outputs": [
    {
     "data": {
      "text/plain": [
       "68"
      ]
     },
     "execution_count": 10,
     "metadata": {},
     "output_type": "execute_result"
    }
   ],
   "source": [
    "df_M_AL50  = df.query(\"sex==1 &age<=50\")\n",
    "len(df_M_AL50)"
   ]
  },
  {
   "cell_type": "code",
   "execution_count": 11,
   "id": "a001bcea",
   "metadata": {},
   "outputs": [
    {
     "data": {
      "text/plain": [
       "69"
      ]
     },
     "execution_count": 11,
     "metadata": {},
     "output_type": "execute_result"
    }
   ],
   "source": [
    "df_F_AG50  = df.query(\"sex==0 &age>50\")\n",
    "len(df_F_AG50)"
   ]
  },
  {
   "cell_type": "code",
   "execution_count": 12,
   "id": "fd294e57",
   "metadata": {},
   "outputs": [
    {
     "data": {
      "text/plain": [
       "27"
      ]
     },
     "execution_count": 12,
     "metadata": {},
     "output_type": "execute_result"
    }
   ],
   "source": [
    "df_F_AL50  = df.query(\"sex==0 &age<=50\")\n",
    "len(df_F_AL50)"
   ]
  },
  {
   "cell_type": "code",
   "execution_count": 13,
   "id": "e8ec705b",
   "metadata": {},
   "outputs": [
    {
     "data": {
      "text/plain": [
       "57"
      ]
     },
     "execution_count": 13,
     "metadata": {},
     "output_type": "execute_result"
    }
   ],
   "source": [
    "df_M_AG50_CG250 =df.query(\"sex==1 & age>50 & chol>250\")\n",
    "len(df_M_AG50_CG250)"
   ]
  },
  {
   "cell_type": "code",
   "execution_count": 14,
   "id": "e6d99c0b",
   "metadata": {},
   "outputs": [
    {
     "data": {
      "text/plain": [
       "82"
      ]
     },
     "execution_count": 14,
     "metadata": {},
     "output_type": "execute_result"
    }
   ],
   "source": [
    "df_M_AG50_CL250 =df.query(\"sex==1 & age>50 & chol<=250\")\n",
    "len(df_M_AG50_CL250)"
   ]
  },
  {
   "cell_type": "code",
   "execution_count": 15,
   "id": "84bb37e6",
   "metadata": {},
   "outputs": [
    {
     "data": {
      "text/plain": [
       "20"
      ]
     },
     "execution_count": 15,
     "metadata": {},
     "output_type": "execute_result"
    }
   ],
   "source": [
    "df_M_AL50_CG250 =df.query(\"sex==1 & age<=50 & chol>250\")\n",
    "len(df_M_AL50_CG250)"
   ]
  },
  {
   "cell_type": "code",
   "execution_count": 16,
   "id": "be39cae6",
   "metadata": {},
   "outputs": [
    {
     "data": {
      "text/plain": [
       "48"
      ]
     },
     "execution_count": 16,
     "metadata": {},
     "output_type": "execute_result"
    }
   ],
   "source": [
    "df_M_AL50_CL250 =df.query(\"sex==1 & age<=50 & chol<=250\")\n",
    "len(df_M_AL50_CL250)"
   ]
  },
  {
   "cell_type": "code",
   "execution_count": 17,
   "id": "9d759bf0",
   "metadata": {},
   "outputs": [
    {
     "data": {
      "text/plain": [
       "41"
      ]
     },
     "execution_count": 17,
     "metadata": {},
     "output_type": "execute_result"
    }
   ],
   "source": [
    "df_F_AG50_CG250 =df.query(\"sex==0 & age>50 & chol>250\")\n",
    "len(df_F_AG50_CG250)"
   ]
  },
  {
   "cell_type": "code",
   "execution_count": 18,
   "id": "47238098",
   "metadata": {},
   "outputs": [
    {
     "data": {
      "text/plain": [
       "28"
      ]
     },
     "execution_count": 18,
     "metadata": {},
     "output_type": "execute_result"
    }
   ],
   "source": [
    "df_F_AG50_CL250 =df.query(\"sex==0 & age>50 & chol<=250\")\n",
    "len(df_F_AG50_CL250)"
   ]
  },
  {
   "cell_type": "code",
   "execution_count": 19,
   "id": "bb8b4b66",
   "metadata": {},
   "outputs": [
    {
     "data": {
      "text/plain": [
       "8"
      ]
     },
     "execution_count": 19,
     "metadata": {},
     "output_type": "execute_result"
    }
   ],
   "source": [
    "df_F_AL50_CG250 =df.query(\"sex==0 & age<=50 & chol>250\")\n",
    "len(df_F_AL50_CG250)"
   ]
  },
  {
   "cell_type": "code",
   "execution_count": 20,
   "id": "edc47c1c",
   "metadata": {},
   "outputs": [
    {
     "data": {
      "text/plain": [
       "19"
      ]
     },
     "execution_count": 20,
     "metadata": {},
     "output_type": "execute_result"
    }
   ],
   "source": [
    "df_F_AL50_CL250 =df.query(\"sex==0 & age<=50 & chol<=250\")\n",
    "len(df_F_AL50_CL250)"
   ]
  },
  {
   "cell_type": "code",
   "execution_count": 21,
   "id": "102a89af",
   "metadata": {
    "scrolled": true
   },
   "outputs": [
    {
     "data": {
      "text/plain": [
       "12"
      ]
     },
     "execution_count": 21,
     "metadata": {},
     "output_type": "execute_result"
    }
   ],
   "source": [
    "#heartattack poss\n",
    "df_M_AG50_CG250_HA =df.query(\"sex==1 & age>50 & chol>250 &output==1\")\n",
    "len(df_M_AG50_CG250_HA)"
   ]
  },
  {
   "cell_type": "code",
   "execution_count": 22,
   "id": "b552858e",
   "metadata": {},
   "outputs": [
    {
     "data": {
      "text/plain": [
       "41"
      ]
     },
     "execution_count": 22,
     "metadata": {},
     "output_type": "execute_result"
    }
   ],
   "source": [
    "df_M_AG50_CL250_HA =df.query(\"sex==1 & age>50 & chol<=250 &output==1\")\n",
    "len(df_M_AG50_CL250_HA)"
   ]
  },
  {
   "cell_type": "code",
   "execution_count": 23,
   "id": "33cb10db",
   "metadata": {},
   "outputs": [
    {
     "data": {
      "text/plain": [
       "11"
      ]
     },
     "execution_count": 23,
     "metadata": {},
     "output_type": "execute_result"
    }
   ],
   "source": [
    "df_M_AL50_CG250_HA =df.query(\"sex==1 & age<=50 & chol>250 &output==1\")\n",
    "len(df_M_AL50_CG250_HA)"
   ]
  },
  {
   "cell_type": "code",
   "execution_count": 24,
   "id": "3902aaaa",
   "metadata": {},
   "outputs": [
    {
     "data": {
      "text/plain": [
       "29"
      ]
     },
     "execution_count": 24,
     "metadata": {},
     "output_type": "execute_result"
    }
   ],
   "source": [
    "df_M_AL50_CL250_HA =df.query(\"sex==1 & age<=50 & chol<=250 &output==1\")\n",
    "len(df_M_AL50_CL250_HA)"
   ]
  },
  {
   "cell_type": "code",
   "execution_count": 25,
   "id": "c22f24ef",
   "metadata": {},
   "outputs": [
    {
     "data": {
      "text/plain": [
       "28"
      ]
     },
     "execution_count": 25,
     "metadata": {},
     "output_type": "execute_result"
    }
   ],
   "source": [
    "df_F_AG50_CG250_HA =df.query(\"sex==0 & age>50 & chol>250 &output==1\")\n",
    "len(df_F_AG50_CG250_HA)"
   ]
  },
  {
   "cell_type": "code",
   "execution_count": 26,
   "id": "a3c9ffa9",
   "metadata": {},
   "outputs": [
    {
     "data": {
      "text/plain": [
       "18"
      ]
     },
     "execution_count": 26,
     "metadata": {},
     "output_type": "execute_result"
    }
   ],
   "source": [
    "df_F_AG50_CL250_HA =df.query(\"sex==0 & age>50 & chol<=250 &output==1\")\n",
    "len(df_F_AG50_CL250_HA)"
   ]
  },
  {
   "cell_type": "code",
   "execution_count": 27,
   "id": "32f4dc2c",
   "metadata": {},
   "outputs": [
    {
     "data": {
      "text/plain": [
       "7"
      ]
     },
     "execution_count": 27,
     "metadata": {},
     "output_type": "execute_result"
    }
   ],
   "source": [
    "df_F_AL50_CG250_HA =df.query(\"sex==0 & age<=50 & chol>250 &output==1\")\n",
    "len(df_F_AL50_CG250_HA)"
   ]
  },
  {
   "cell_type": "code",
   "execution_count": 28,
   "id": "1b91f455",
   "metadata": {},
   "outputs": [
    {
     "data": {
      "text/plain": [
       "19"
      ]
     },
     "execution_count": 28,
     "metadata": {},
     "output_type": "execute_result"
    }
   ],
   "source": [
    "df_F_AL50_CL250_HA =df.query(\"sex==0 & age<=50 & chol<=250 &output==1\")\n",
    "len(df_F_AL50_CL250_HA)"
   ]
  },
  {
   "cell_type": "code",
   "execution_count": 29,
   "id": "45308431",
   "metadata": {},
   "outputs": [],
   "source": [
    "        #CASE 2"
   ]
  },
  {
   "cell_type": "code",
   "execution_count": 30,
   "id": "5b8ee037",
   "metadata": {},
   "outputs": [
    {
     "data": {
      "text/plain": [
       "207"
      ]
     },
     "execution_count": 30,
     "metadata": {},
     "output_type": "execute_result"
    }
   ],
   "source": [
    "df_M = df.query(\"sex==1\")\n",
    "len(df_M)"
   ]
  },
  {
   "cell_type": "code",
   "execution_count": 31,
   "id": "d7a84610",
   "metadata": {},
   "outputs": [
    {
     "data": {
      "text/plain": [
       "96"
      ]
     },
     "execution_count": 31,
     "metadata": {},
     "output_type": "execute_result"
    }
   ],
   "source": [
    "df_F = df.query(\"sex==0\")\n",
    "len(df_F)"
   ]
  },
  {
   "cell_type": "code",
   "execution_count": 32,
   "id": "3363aac5",
   "metadata": {},
   "outputs": [
    {
     "name": "stdout",
     "output_type": "stream",
     "text": [
      "54\n"
     ]
    }
   ],
   "source": [
    "for value in range(100):\n",
    "    qry = 'age >' +str(value)\n",
    "    df_value = df_M.query(qry)\n",
    "    if(len(df_value)/len(df_M) < 0.5 ):\n",
    "        break\n",
    "print(value)"
   ]
  },
  {
   "cell_type": "code",
   "execution_count": 33,
   "id": "4ba0f63b",
   "metadata": {},
   "outputs": [
    {
     "data": {
      "text/plain": [
       "103"
      ]
     },
     "execution_count": 33,
     "metadata": {},
     "output_type": "execute_result"
    }
   ],
   "source": [
    "df_M_AG54 = df_M.query(\"age>54\")\n",
    "len(df_M_AG54)"
   ]
  },
  {
   "cell_type": "code",
   "execution_count": 34,
   "id": "74068347",
   "metadata": {},
   "outputs": [
    {
     "data": {
      "text/plain": [
       "104"
      ]
     },
     "execution_count": 34,
     "metadata": {},
     "output_type": "execute_result"
    }
   ],
   "source": [
    "df_M_AL54=df_M.query(\"age<=54\")\n",
    "len(df_M_AL54)"
   ]
  },
  {
   "cell_type": "code",
   "execution_count": 35,
   "id": "f9f80d0e",
   "metadata": {},
   "outputs": [
    {
     "data": {
      "text/plain": [
       "31"
      ]
     },
     "execution_count": 35,
     "metadata": {},
     "output_type": "execute_result"
    }
   ],
   "source": [
    "df_M_AG54_HA = df_M.query(\"sex==1 &age>54 &output==1\")\n",
    "len(df_M_AG54_HA)\n"
   ]
  },
  {
   "cell_type": "code",
   "execution_count": 36,
   "id": "e33554bd",
   "metadata": {},
   "outputs": [
    {
     "data": {
      "text/plain": [
       "44"
      ]
     },
     "execution_count": 36,
     "metadata": {},
     "output_type": "execute_result"
    }
   ],
   "source": [
    "df_M_AG54_CG250 =df_M.query(\"age>54 & chol>250\")\n",
    "len(df_M_AG54_CG250)"
   ]
  },
  {
   "cell_type": "code",
   "execution_count": 37,
   "id": "008130ca",
   "metadata": {},
   "outputs": [
    {
     "data": {
      "text/plain": [
       "59"
      ]
     },
     "execution_count": 37,
     "metadata": {},
     "output_type": "execute_result"
    }
   ],
   "source": [
    "df_M_AG54_CL250 =df_M.query(\"age>54 & chol<=250\")\n",
    "len(df_M_AG54_CL250)"
   ]
  },
  {
   "cell_type": "code",
   "execution_count": 38,
   "id": "b07d80ba",
   "metadata": {},
   "outputs": [
    {
     "data": {
      "text/plain": [
       "33"
      ]
     },
     "execution_count": 38,
     "metadata": {},
     "output_type": "execute_result"
    }
   ],
   "source": [
    "df_M_AL54_CG250 =df_M.query(\"age<=54 & chol>250\")\n",
    "len(df_M_AL54_CG250)"
   ]
  },
  {
   "cell_type": "code",
   "execution_count": 39,
   "id": "08c9ef33",
   "metadata": {},
   "outputs": [
    {
     "data": {
      "text/plain": [
       "71"
      ]
     },
     "execution_count": 39,
     "metadata": {},
     "output_type": "execute_result"
    }
   ],
   "source": [
    "df_M_AL54_CL250 =df_M.query(\"age<=54 & chol<=250\")\n",
    "len(df_M_AL54_CL250)"
   ]
  },
  {
   "cell_type": "code",
   "execution_count": 40,
   "id": "e1f80ef8",
   "metadata": {},
   "outputs": [
    {
     "data": {
      "text/plain": [
       "6"
      ]
     },
     "execution_count": 40,
     "metadata": {},
     "output_type": "execute_result"
    }
   ],
   "source": [
    "df_M_AG54_CG250_HA =df_M.query(\"age>54 & chol>250 &output==1\")\n",
    "len(df_M_AG54_CG250_HA)"
   ]
  },
  {
   "cell_type": "code",
   "execution_count": 41,
   "id": "5b561364",
   "metadata": {},
   "outputs": [
    {
     "data": {
      "text/plain": [
       "25"
      ]
     },
     "execution_count": 41,
     "metadata": {},
     "output_type": "execute_result"
    }
   ],
   "source": [
    "df_M_AG54_CL250_HA =df_M.query(\"age>54 & chol<=250 &output==1\")\n",
    "len(df_M_AG54_CL250_HA)"
   ]
  },
  {
   "cell_type": "code",
   "execution_count": 42,
   "id": "383424d5",
   "metadata": {},
   "outputs": [
    {
     "data": {
      "text/plain": [
       "17"
      ]
     },
     "execution_count": 42,
     "metadata": {},
     "output_type": "execute_result"
    }
   ],
   "source": [
    "df_M_AL54_CG250_HA =df_M.query(\"age<=54 & chol>250 &output==1\")\n",
    "len(df_M_AL54_CG250_HA)"
   ]
  },
  {
   "cell_type": "code",
   "execution_count": 43,
   "id": "f44304fa",
   "metadata": {},
   "outputs": [
    {
     "data": {
      "text/plain": [
       "45"
      ]
     },
     "execution_count": 43,
     "metadata": {},
     "output_type": "execute_result"
    }
   ],
   "source": [
    "df_M_AL54_CL250_HA =df_M.query(\"age<=54 & chol<=250 &output==1\")\n",
    "len(df_M_AL54_CL250_HA)"
   ]
  },
  {
   "cell_type": "code",
   "execution_count": 44,
   "id": "486f0c69",
   "metadata": {},
   "outputs": [
    {
     "name": "stdout",
     "output_type": "stream",
     "text": [
      "57\n"
     ]
    }
   ],
   "source": [
    "for value in range(100):\n",
    "    qry = 'age >' +str(value)\n",
    "    df_value = df_F.query(qry)\n",
    "    if(len(df_value)/len(df_F) < 0.5 ):\n",
    "        break\n",
    "print(value)"
   ]
  },
  {
   "cell_type": "code",
   "execution_count": 45,
   "id": "3f6a3e7e",
   "metadata": {},
   "outputs": [
    {
     "data": {
      "text/plain": [
       "49"
      ]
     },
     "execution_count": 45,
     "metadata": {},
     "output_type": "execute_result"
    }
   ],
   "source": [
    "df_F_AG56 = df_F.query(\"age>56\")\n",
    "len(df_F_AG56)"
   ]
  },
  {
   "cell_type": "code",
   "execution_count": 46,
   "id": "a96971b5",
   "metadata": {},
   "outputs": [
    {
     "data": {
      "text/plain": [
       "47"
      ]
     },
     "execution_count": 46,
     "metadata": {},
     "output_type": "execute_result"
    }
   ],
   "source": [
    "df_F_AL56 = df_F.query(\"age<=56\")\n",
    "len(df_F_AL56)"
   ]
  },
  {
   "cell_type": "code",
   "execution_count": 47,
   "id": "697486cc",
   "metadata": {},
   "outputs": [
    {
     "data": {
      "text/plain": [
       "28"
      ]
     },
     "execution_count": 47,
     "metadata": {},
     "output_type": "execute_result"
    }
   ],
   "source": [
    "df_F_AG56_CG250 = df_F_AG56.query(\"age>56 & chol>250\")\n",
    "len(df_F_AG56_CG250)"
   ]
  },
  {
   "cell_type": "code",
   "execution_count": 48,
   "id": "aa17fc14",
   "metadata": {},
   "outputs": [
    {
     "data": {
      "text/plain": [
       "21"
      ]
     },
     "execution_count": 48,
     "metadata": {},
     "output_type": "execute_result"
    }
   ],
   "source": [
    "df_F_AG56_CL250 = df_F_AG56.query(\"age>56 & chol<=250\")\n",
    "len(df_F_AG56_CL250)"
   ]
  },
  {
   "cell_type": "code",
   "execution_count": 49,
   "id": "cd3d8eee",
   "metadata": {},
   "outputs": [
    {
     "data": {
      "text/plain": [
       "21"
      ]
     },
     "execution_count": 49,
     "metadata": {},
     "output_type": "execute_result"
    }
   ],
   "source": [
    "df_F_AL56_CG250 = df_F_AL56.query(\"age<=56 & chol>250\")\n",
    "len(df_F_AL56_CG250)"
   ]
  },
  {
   "cell_type": "code",
   "execution_count": 50,
   "id": "580aca1d",
   "metadata": {},
   "outputs": [
    {
     "data": {
      "text/plain": [
       "26"
      ]
     },
     "execution_count": 50,
     "metadata": {},
     "output_type": "execute_result"
    }
   ],
   "source": [
    "df_F_AL56_CL250 = df_F_AL56.query(\"age<=56 & chol<=250\")\n",
    "len(df_F_AL56_CL250)"
   ]
  },
  {
   "cell_type": "code",
   "execution_count": 51,
   "id": "74107f7d",
   "metadata": {},
   "outputs": [
    {
     "data": {
      "text/plain": [
       "0.6785714285714286"
      ]
     },
     "execution_count": 51,
     "metadata": {},
     "output_type": "execute_result"
    }
   ],
   "source": [
    "df_F_AG56_CG250_HA = df_F_AG56.query(\"age>56 & chol>250 &output==1 \")\n",
    "len(df_F_AG56_CG250_HA)\n",
    "len(df_F_AG56_CG250_HA)/len(df_F_AG56_CG250)"
   ]
  },
  {
   "cell_type": "code",
   "execution_count": 52,
   "id": "a3f36fce",
   "metadata": {},
   "outputs": [
    {
     "data": {
      "text/plain": [
       "0.5714285714285714"
      ]
     },
     "execution_count": 52,
     "metadata": {},
     "output_type": "execute_result"
    }
   ],
   "source": [
    "df_F_AG56_CL250_HA = df_F_AG56.query(\"age>56 & chol<=250 &output==1\")\n",
    "len(df_F_AG56_CL250_HA)/len(df_F_AG56_CL250)"
   ]
  },
  {
   "cell_type": "code",
   "execution_count": 53,
   "id": "a8a94c6a",
   "metadata": {},
   "outputs": [
    {
     "data": {
      "text/plain": [
       "0.7619047619047619"
      ]
     },
     "execution_count": 53,
     "metadata": {},
     "output_type": "execute_result"
    }
   ],
   "source": [
    "df_F_AL56_CG250_HA = df_F_AL56.query(\"age<=56 & chol>250 &output==1 \")\n",
    "len(df_F_AL56_CG250_HA)\n",
    "len(df_F_AL56_CG250_HA)/len(df_F_AL56_CG250)"
   ]
  },
  {
   "cell_type": "code",
   "execution_count": 54,
   "id": "c1f98071",
   "metadata": {},
   "outputs": [
    {
     "data": {
      "text/plain": [
       "0.9615384615384616"
      ]
     },
     "execution_count": 54,
     "metadata": {},
     "output_type": "execute_result"
    }
   ],
   "source": [
    "df_F_AL56_CL250_HA = df_F_AL56.query(\"age<=56 & chol<=250 &output==1 \")\n",
    "len(df_F_AL56_CL250_HA)/len(df_F_AL56_CL250)"
   ]
  },
  {
   "cell_type": "code",
   "execution_count": 55,
   "id": "ed97409d",
   "metadata": {},
   "outputs": [
    {
     "data": {
      "text/plain": [
       "25"
      ]
     },
     "execution_count": 55,
     "metadata": {},
     "output_type": "execute_result"
    }
   ],
   "source": [
    "len(df_F_AL56_CL250_HA)"
   ]
  },
  {
   "cell_type": "code",
   "execution_count": 56,
   "id": "4d775eb9",
   "metadata": {},
   "outputs": [],
   "source": [
    "        #CASE 3"
   ]
  },
  {
   "cell_type": "code",
   "execution_count": 57,
   "id": "76cbd1f2",
   "metadata": {},
   "outputs": [
    {
     "name": "stdout",
     "output_type": "stream",
     "text": [
      "240\n"
     ]
    }
   ],
   "source": [
    "#chol of male age >54\n",
    "for value in range(1000):\n",
    "    qry = ' chol >' + str(value)\n",
    "    df_value = df_M_AG54.query(qry)\n",
    "    if(len(df_value)/len(df_M_AG54) < 0.5 ):\n",
    "        break\n",
    "print(value)"
   ]
  },
  {
   "cell_type": "code",
   "execution_count": 58,
   "id": "7a83b2f6",
   "metadata": {},
   "outputs": [
    {
     "name": "stdout",
     "output_type": "stream",
     "text": [
      "233\n"
     ]
    }
   ],
   "source": [
    "#chol of male age <54\n",
    "for value in range(400):\n",
    "    qry = ' chol >' + str(value)\n",
    "    df_value = df_M_AL54.query(qry)\n",
    "    if(len(df_value)/len(df_M_AL54) < 0.5 ):\n",
    "        break\n",
    "print(value)"
   ]
  },
  {
   "cell_type": "code",
   "execution_count": 59,
   "id": "c1c0f479",
   "metadata": {},
   "outputs": [
    {
     "data": {
      "text/plain": [
       "50"
      ]
     },
     "execution_count": 59,
     "metadata": {},
     "output_type": "execute_result"
    }
   ],
   "source": [
    "df_M_AG54_CG240 =df_M_AG54.query(\"age>54 & chol>240 \")\n",
    "len(df_M_AG54_CG240)"
   ]
  },
  {
   "cell_type": "code",
   "execution_count": 60,
   "id": "89bb014e",
   "metadata": {},
   "outputs": [
    {
     "data": {
      "text/plain": [
       "8"
      ]
     },
     "execution_count": 60,
     "metadata": {},
     "output_type": "execute_result"
    }
   ],
   "source": [
    "df_M_AG54_CG240_HA =df_M_AG54.query(\"age>54 & chol>240 &output==1\")\n",
    "len(df_M_AG54_CG240_HA)"
   ]
  },
  {
   "cell_type": "code",
   "execution_count": 61,
   "id": "4c3b0903",
   "metadata": {},
   "outputs": [
    {
     "data": {
      "text/plain": [
       "53"
      ]
     },
     "execution_count": 61,
     "metadata": {},
     "output_type": "execute_result"
    }
   ],
   "source": [
    "df_M_AG54_CL240 =df_M_AG54.query(\"age>54 & chol<=240 \")\n",
    "len(df_M_AG54_CL240)"
   ]
  },
  {
   "cell_type": "code",
   "execution_count": 62,
   "id": "4b5be816",
   "metadata": {},
   "outputs": [
    {
     "data": {
      "text/plain": [
       "23"
      ]
     },
     "execution_count": 62,
     "metadata": {},
     "output_type": "execute_result"
    }
   ],
   "source": [
    "df_M_AG54_CL240_HA =df_M_AG54.query(\"age>54 & chol<=240 &output==1\")\n",
    "len(df_M_AG54_CL240_HA)"
   ]
  },
  {
   "cell_type": "code",
   "execution_count": 63,
   "id": "49b8287d",
   "metadata": {},
   "outputs": [
    {
     "data": {
      "text/plain": [
       "0.4339622641509434"
      ]
     },
     "execution_count": 63,
     "metadata": {},
     "output_type": "execute_result"
    }
   ],
   "source": [
    "#prob of HA for age>54 chol<240\n",
    "len(df_M_AG54_CL240_HA)/len(df_M_AG54_CL240)"
   ]
  },
  {
   "cell_type": "code",
   "execution_count": 64,
   "id": "3cf40831",
   "metadata": {},
   "outputs": [
    {
     "data": {
      "text/plain": [
       "0.16"
      ]
     },
     "execution_count": 64,
     "metadata": {},
     "output_type": "execute_result"
    }
   ],
   "source": [
    "#prob of HA for age>54 chol>240\n",
    "len(df_M_AG54_CG240_HA)/len(df_M_AG54_CG240)"
   ]
  },
  {
   "cell_type": "code",
   "execution_count": 65,
   "id": "2293245a",
   "metadata": {},
   "outputs": [
    {
     "data": {
      "text/plain": [
       "49"
      ]
     },
     "execution_count": 65,
     "metadata": {},
     "output_type": "execute_result"
    }
   ],
   "source": [
    "df_M_AL54_CG233 =df_M_AL54.query(\"age<=54 & chol>233 \")\n",
    "len(df_M_AL54_CG233)"
   ]
  },
  {
   "cell_type": "code",
   "execution_count": 66,
   "id": "7117fd05",
   "metadata": {},
   "outputs": [
    {
     "data": {
      "text/plain": [
       "55"
      ]
     },
     "execution_count": 66,
     "metadata": {},
     "output_type": "execute_result"
    }
   ],
   "source": [
    "df_M_AL54_CL233 =df_M_AL54.query(\"age<=54 & chol<=233 \")\n",
    "len(df_M_AL54_CL233)"
   ]
  },
  {
   "cell_type": "code",
   "execution_count": 67,
   "id": "ddfd1864",
   "metadata": {},
   "outputs": [
    {
     "data": {
      "text/plain": [
       "0.5714285714285714"
      ]
     },
     "execution_count": 67,
     "metadata": {},
     "output_type": "execute_result"
    }
   ],
   "source": [
    "#prob of HA for age<54 chol>233\n",
    "df_M_AL54_CG233_HA =df_M_AL54.query(\"age<=54 & chol>233 &output==1\")\n",
    "len(df_M_AL54_CG233_HA)\n",
    "len(df_M_AL54_CG233_HA)/len(df_M_AL54_CG233)"
   ]
  },
  {
   "cell_type": "code",
   "execution_count": 68,
   "id": "30905ff6",
   "metadata": {},
   "outputs": [
    {
     "data": {
      "text/plain": [
       "0.6181818181818182"
      ]
     },
     "execution_count": 68,
     "metadata": {},
     "output_type": "execute_result"
    }
   ],
   "source": [
    "#prob of HA for age<54 chol <233\n",
    "df_M_AL54_CL233_HA =df_M_AL54.query(\"age<=54 & chol<=233 &output==1\")\n",
    "len(df_M_AL54_CL233_HA)\n",
    "len(df_M_AL54_CL233_HA)/len(df_M_AL54_CL233)"
   ]
  },
  {
   "cell_type": "code",
   "execution_count": 69,
   "id": "77ff8a44",
   "metadata": {},
   "outputs": [
    {
     "data": {
      "text/plain": [
       "28"
      ]
     },
     "execution_count": 69,
     "metadata": {},
     "output_type": "execute_result"
    }
   ],
   "source": [
    "len(df_M_AL54_CG233_HA)"
   ]
  },
  {
   "cell_type": "code",
   "execution_count": 70,
   "id": "77f98216",
   "metadata": {},
   "outputs": [
    {
     "data": {
      "text/plain": [
       "34"
      ]
     },
     "execution_count": 70,
     "metadata": {},
     "output_type": "execute_result"
    }
   ],
   "source": [
    "len(df_M_AL54_CL233_HA)"
   ]
  },
  {
   "cell_type": "code",
   "execution_count": 71,
   "id": "ee62a087",
   "metadata": {},
   "outputs": [],
   "source": [
    "#FEMALE"
   ]
  },
  {
   "cell_type": "code",
   "execution_count": 89,
   "id": "330da718",
   "metadata": {},
   "outputs": [
    {
     "name": "stdout",
     "output_type": "stream",
     "text": [
      "265\n"
     ]
    }
   ],
   "source": [
    "#chol of female age >56\n",
    "for value in range(1000):\n",
    "    qry = ' chol >' + str(value)\n",
    "    df_value = df_F_AG56.query(qry)\n",
    "    if(len(df_value)/len(df_F_AG56) < 0.5 ):\n",
    "        break\n",
    "print(value)"
   ]
  },
  {
   "cell_type": "code",
   "execution_count": 90,
   "id": "bb17babb",
   "metadata": {},
   "outputs": [
    {
     "name": "stdout",
     "output_type": "stream",
     "text": [
      "243\n"
     ]
    }
   ],
   "source": [
    "#chol of female age <=56\n",
    "for value in range(1000):\n",
    "    qry = ' chol >' + str(value)\n",
    "    df_value = df_F_AL56.query(qry)\n",
    "    if(len(df_value)/len(df_F_AL56) < 0.5 ):\n",
    "        break\n",
    "print(value)"
   ]
  },
  {
   "cell_type": "code",
   "execution_count": 74,
   "id": "950645a4",
   "metadata": {},
   "outputs": [
    {
     "data": {
      "text/plain": [
       "49"
      ]
     },
     "execution_count": 74,
     "metadata": {},
     "output_type": "execute_result"
    }
   ],
   "source": [
    "len(df_F_AG56)"
   ]
  },
  {
   "cell_type": "code",
   "execution_count": 75,
   "id": "01eb139f",
   "metadata": {},
   "outputs": [
    {
     "data": {
      "text/plain": [
       "47"
      ]
     },
     "execution_count": 75,
     "metadata": {},
     "output_type": "execute_result"
    }
   ],
   "source": [
    "len(df_F_AL56)"
   ]
  },
  {
   "cell_type": "code",
   "execution_count": 76,
   "id": "191be5be",
   "metadata": {},
   "outputs": [
    {
     "data": {
      "text/plain": [
       "24"
      ]
     },
     "execution_count": 76,
     "metadata": {},
     "output_type": "execute_result"
    }
   ],
   "source": [
    "df_F_AG56_CG265 =df_F_AG56.query(\"age>56 & chol>265 \")\n",
    "len(df_F_AG56_CG265)"
   ]
  },
  {
   "cell_type": "code",
   "execution_count": 77,
   "id": "f3704b41",
   "metadata": {},
   "outputs": [
    {
     "data": {
      "text/plain": [
       "25"
      ]
     },
     "execution_count": 77,
     "metadata": {},
     "output_type": "execute_result"
    }
   ],
   "source": [
    "df_F_AG56_CL265 =df_F_AG56.query(\"age>56 & chol<=265 \")\n",
    "len(df_F_AG56_CL265)"
   ]
  },
  {
   "cell_type": "code",
   "execution_count": 78,
   "id": "d94faff7",
   "metadata": {},
   "outputs": [
    {
     "data": {
      "text/plain": [
       "23"
      ]
     },
     "execution_count": 78,
     "metadata": {},
     "output_type": "execute_result"
    }
   ],
   "source": [
    "df_F_AL56_CG243 =df_F_AL56.query(\"age<=56 & chol>243 \")\n",
    "len(df_F_AL56_CG243)"
   ]
  },
  {
   "cell_type": "code",
   "execution_count": 79,
   "id": "c88153d9",
   "metadata": {},
   "outputs": [
    {
     "data": {
      "text/plain": [
       "24"
      ]
     },
     "execution_count": 79,
     "metadata": {},
     "output_type": "execute_result"
    }
   ],
   "source": [
    "df_F_AL56_CL243 =df_F_AL56.query(\"age<=56 & chol<=243 \")\n",
    "len(df_F_AL56_CL243)"
   ]
  },
  {
   "cell_type": "code",
   "execution_count": 80,
   "id": "604a5b4d",
   "metadata": {},
   "outputs": [],
   "source": [
    "#poss of female for heart attack for age > and <= 56"
   ]
  },
  {
   "cell_type": "code",
   "execution_count": 81,
   "id": "5170a261",
   "metadata": {},
   "outputs": [
    {
     "data": {
      "text/plain": [
       "17"
      ]
     },
     "execution_count": 81,
     "metadata": {},
     "output_type": "execute_result"
    }
   ],
   "source": [
    "df_F_AG56_CG265_HA =df_F_AG56.query(\"age>56 & chol>265 &output==1\")\n",
    "len(df_F_AG56_CG265_HA)"
   ]
  },
  {
   "cell_type": "code",
   "execution_count": 82,
   "id": "a7cfcb4e",
   "metadata": {},
   "outputs": [
    {
     "data": {
      "text/plain": [
       "0.7083333333333334"
      ]
     },
     "execution_count": 82,
     "metadata": {},
     "output_type": "execute_result"
    }
   ],
   "source": [
    "len(df_F_AG56_CG265_HA)/len(df_F_AG56_CG265)"
   ]
  },
  {
   "cell_type": "code",
   "execution_count": 83,
   "id": "b72210ea",
   "metadata": {},
   "outputs": [
    {
     "data": {
      "text/plain": [
       "14"
      ]
     },
     "execution_count": 83,
     "metadata": {},
     "output_type": "execute_result"
    }
   ],
   "source": [
    "df_F_AG56_CL265_HA =df_F_AG56.query(\"age>56 & chol<=265 &output==1\")\n",
    "len(df_F_AG56_CL265_HA)"
   ]
  },
  {
   "cell_type": "code",
   "execution_count": 84,
   "id": "11e0e93a",
   "metadata": {},
   "outputs": [
    {
     "data": {
      "text/plain": [
       "0.56"
      ]
     },
     "execution_count": 84,
     "metadata": {},
     "output_type": "execute_result"
    }
   ],
   "source": [
    "len(df_F_AG56_CL265_HA)/len(df_F_AG56_CL265)"
   ]
  },
  {
   "cell_type": "code",
   "execution_count": 85,
   "id": "18178f54",
   "metadata": {},
   "outputs": [
    {
     "data": {
      "text/plain": [
       "18"
      ]
     },
     "execution_count": 85,
     "metadata": {},
     "output_type": "execute_result"
    }
   ],
   "source": [
    "df_F_AL56_CG243_HA =df_F_AL56.query(\"age<=56 & chol>243 &output==1\")\n",
    "len(df_F_AL56_CG243_HA)"
   ]
  },
  {
   "cell_type": "code",
   "execution_count": 86,
   "id": "aa5f5cb3",
   "metadata": {},
   "outputs": [
    {
     "data": {
      "text/plain": [
       "0.782608695652174"
      ]
     },
     "execution_count": 86,
     "metadata": {},
     "output_type": "execute_result"
    }
   ],
   "source": [
    "len(df_F_AL56_CG243_HA)/len(df_F_AL56_CG243)"
   ]
  },
  {
   "cell_type": "code",
   "execution_count": 87,
   "id": "3b5d6caf",
   "metadata": {},
   "outputs": [
    {
     "data": {
      "text/plain": [
       "23"
      ]
     },
     "execution_count": 87,
     "metadata": {},
     "output_type": "execute_result"
    }
   ],
   "source": [
    "df_F_AL56_CL243_HA =df_F_AL56.query(\"age<=56 & chol<=243 &output==1\")\n",
    "len(df_F_AL56_CL243_HA)"
   ]
  },
  {
   "cell_type": "code",
   "execution_count": 88,
   "id": "bd3f8320",
   "metadata": {},
   "outputs": [
    {
     "data": {
      "text/plain": [
       "0.9583333333333334"
      ]
     },
     "execution_count": 88,
     "metadata": {},
     "output_type": "execute_result"
    }
   ],
   "source": [
    "len(df_F_AL56_CL243_HA)/len(df_F_AL56_CL243)"
   ]
  },
  {
   "cell_type": "code",
   "execution_count": null,
   "id": "b9c0c459",
   "metadata": {},
   "outputs": [],
   "source": []
  }
 ],
 "metadata": {
  "kernelspec": {
   "display_name": "Python 3 (ipykernel)",
   "language": "python",
   "name": "python3"
  },
  "language_info": {
   "codemirror_mode": {
    "name": "ipython",
    "version": 3
   },
   "file_extension": ".py",
   "mimetype": "text/x-python",
   "name": "python",
   "nbconvert_exporter": "python",
   "pygments_lexer": "ipython3",
   "version": "3.10.9"
  }
 },
 "nbformat": 4,
 "nbformat_minor": 5
}
